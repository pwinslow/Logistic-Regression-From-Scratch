{
 "cells": [
  {
   "cell_type": "markdown",
   "metadata": {},
   "source": [
    "## Dataset 1  \n",
    "\n",
    "Build a logistic regression classifier model to predict whether a student gets admitted into a university or not. Each applicant's chance of admission is based on their results for two exams. You are given historical data from previous applicants that you can use as a training set where each training example has the applicants scores on both exams and the previous administration's decision.  \n",
    "\n",
    "The first thing to do is load the data and take a look at it. Before then, we should take care of all our imports and then make sure our work is reproducible by listing all software and hardware versions we're going to use."
   ]
  },
  {
   "cell_type": "code",
   "execution_count": 1,
   "metadata": {
    "collapsed": false
   },
   "outputs": [
    {
     "name": "stdout",
     "output_type": "stream",
     "text": [
      "\n",
      "General Information...\n",
      "Author: Peter Winslow\n",
      "Date: Saturday March 26 2016\n",
      "\n",
      "Python Information...\n",
      "CPython: 2.7.11\n",
      "IPython: 4.0.3\n",
      "\n",
      "Module Information...\n",
      "numpy 1.10.4\n",
      "pandas 0.17.1\n",
      "matplotlib 1.5.1\n",
      "seaborn 0.7.0\n",
      "scikit-learn 0.17.1\n",
      "\n",
      "System Information...\n",
      "Compiler: GCC 4.2.1 (Apple Inc. build 5577)\n",
      "System: Darwin\n",
      "Release: 14.0.0\n",
      "Machine: x86_64\n",
      "Processor: i386\n",
      "CPU Cores: 4\n",
      "Interpreter: 64bit\n"
     ]
    }
   ],
   "source": [
    "# Standard data analysis\n",
    "import pandas as pd\n",
    "from pandas import Series,DataFrame\n",
    "import numpy as np\n",
    "\n",
    "# Standard visualization analysis\n",
    "import matplotlib.pyplot as plt\n",
    "import seaborn as sns\n",
    "sns.set_style('whitegrid')\n",
    "%matplotlib inline\n",
    "\n",
    "# Scikit-learn analysis\n",
    "from sklearn.cross_validation import StratifiedKFold\n",
    "from sklearn.linear_model import LogisticRegression\n",
    "from sklearn import metrics\n",
    "from sklearn.grid_search import GridSearchCV\n",
    "\n",
    "# Import division from future\n",
    "from __future__ import division\n",
    "\n",
    "# Import my own logistic regression class (see accompanying .py file)\n",
    "from LogReg_Class import LogReg\n",
    "\n",
    "# Ensure reproducibility (see accompanying rePYduce.py script)\n",
    "import os\n",
    "work_PATH = os.getcwd()\n",
    "script_PATH = '/Users/pwinslow/DataScienceProjects/Useful_Scripts/'\n",
    "os.chdir(script_PATH)\n",
    "%run rePYduce.py numpy pandas matplotlib seaborn scikit-learn\n",
    "os.chdir(work_PATH)"
   ]
  },
  {
   "cell_type": "markdown",
   "metadata": {},
   "source": [
    "Now let's take a look at the data"
   ]
  },
  {
   "cell_type": "code",
   "execution_count": 2,
   "metadata": {
    "collapsed": false
   },
   "outputs": [
    {
     "name": "stdout",
     "output_type": "stream",
     "text": [
      "<class 'pandas.core.frame.DataFrame'>\n",
      "Int64Index: 100 entries, 0 to 99\n",
      "Data columns (total 3 columns):\n",
      "score1      100 non-null float64\n",
      "score2      100 non-null float64\n",
      "admitted    100 non-null int64\n",
      "dtypes: float64(2), int64(1)\n",
      "memory usage: 3.1 KB\n"
     ]
    }
   ],
   "source": [
    "exam_df = pd.read_csv('ex2data1.txt', header = None)\n",
    "exam_df.columns = ['score1', 'score2', 'admitted']\n",
    "exam_df.info()"
   ]
  },
  {
   "cell_type": "code",
   "execution_count": 3,
   "metadata": {
    "collapsed": false
   },
   "outputs": [
    {
     "data": {
      "text/plain": [
       "<matplotlib.text.Text at 0x10bedb910>"
      ]
     },
     "execution_count": 3,
     "metadata": {},
     "output_type": "execute_result"
    },
    {
     "data": {
      "image/png": "[encoded data removed]",
      "text/plain": [
       "<matplotlib.figure.Figure at 0x104ba5050>"
      ]
     },
     "metadata": {},
     "output_type": "display_data"
    }
   ],
   "source": [
    "# Plot the two data sets (admitted and not admitted) to see how they compare in terms of exam scores\n",
    "def plotdata(df):\n",
    "    \n",
    "    input1, input2 = df.columns[0:-1]\n",
    "    class_colname = df.columns[-1]\n",
    "    \n",
    "    ax = plt.subplot(111)\n",
    "    \n",
    "    # Note: this assumes that the df has been formatted so that the two classes are defined as '0' or '1'\n",
    "    \n",
    "    plt.scatter(df[df[class_colname] == 1][input1], \n",
    "            df[df[class_colname] == 1][input2], \n",
    "            color = 'black')\n",
    "    \n",
    "    plt.scatter(df[df[class_colname] == 0][input1], \n",
    "            df[df[class_colname] == 0][input2], \n",
    "            color = 'y')\n",
    "    \n",
    "    return ax\n",
    "\n",
    "ax = plotdata(exam_df)\n",
    "plt.legend(['admitted', 'rejected'])\n",
    "plt.xlabel('First exam score')\n",
    "plt.ylabel('Second exam score')"
   ]
  },
  {
   "cell_type": "markdown",
   "metadata": {},
   "source": [
    "It looks like a linear decision boundary should suffice here.   \n",
    "\n",
    "First, prepare the data for training."
   ]
  },
  {
   "cell_type": "code",
   "execution_count": 4,
   "metadata": {
    "collapsed": false
   },
   "outputs": [],
   "source": [
    "# Extract design matrix and target vector\n",
    "X = exam_df[['score1', 'score2']].values\n",
    "Y = exam_df['admitted'].values\n",
    "m, n = X.shape\n",
    "# Add bias column to design matrix\n",
    "X = np.insert(X, 0, np.ones(X.shape[0]), axis = 1)"
   ]
  },
  {
   "cell_type": "markdown",
   "metadata": {},
   "source": [
    "### My logistic regression classifier  \n",
    "\n",
    "I'll begin by performing a quick and dirty analysis of the dataset with my own imported logistic regression class. I initiate an instance of the class, train the model on the data to extract the regression parameters, and evaluate the model based on its accuracy score."
   ]
  },
  {
   "cell_type": "code",
   "execution_count": 5,
   "metadata": {
    "collapsed": false
   },
   "outputs": [
    {
     "name": "stdout",
     "output_type": "stream",
     "text": [
      "Best fit regression parameters: [-25.16159955   0.20623317   0.20147445]\n",
      "Accuracy score: 0.89\n"
     ]
    }
   ],
   "source": [
    "# Perform an initial analysis using the entire dataset for training\n",
    "initial_theta = np.zeros( X.shape[1] )\n",
    "logreg_classifier = LogReg()\n",
    "theta_best = logreg_classifier.fit(initial_theta, X, Y)\n",
    "score = logreg_classifier.score(theta_best, X, Y)\n",
    "print 'Best fit regression parameters: {0}'.format(theta_best)\n",
    "print 'Accuracy score: {0}'.format(score)"
   ]
  },
  {
   "cell_type": "markdown",
   "metadata": {},
   "source": [
    "We should now ask: is 89% accuracy really a good representation of the accuracy we should expect if we were to apply our fitted model to new data? In the code above, we train and test the model on the same (entire) dataset. This leaves us open to the possibility that we may be overfitting the data, i.e., fitting not just to feature trends and general behaviours but also to the statistical noise. If true the model will fail, to some extent (depending on how highly the fitting procedure weighted the noise), to accurately predict anything useful on new unseen data.  \n",
    "\n",
    "To obtain a better estimate of the accuracy of the model we use a stratified k-fold cross validation of the data. A k-fold cross validation approach splits the dataset into k parts. One part is used to test the model while the amalgamation of the other k-1 parts are used to train it. We then repeat this process k times, each time using a different part of the split data as the test set. A stratified k-fold cross validation is a very similar procedure with the crucial difference that the global percentage of samples of each class is preserved in each of the k folds. This is necessary as a random split of the data could accidentally lead to a training sample with no examples of a certain class, leading to a horrible accuracy on a test sample containing many of these examples.   \n",
    "\n",
    "We implement a stratified 10-fold cross validation below, evaluating the score achieved on each test set and taking the average as the actual score for the model."
   ]
  },
  {
   "cell_type": "code",
   "execution_count": 6,
   "metadata": {
    "collapsed": false
   },
   "outputs": [
    {
     "data": {
      "text/plain": [
       "<matplotlib.text.Text at 0x11394a390>"
      ]
     },
     "execution_count": 6,
     "metadata": {},
     "output_type": "execute_result"
    },
    {
     "data": {
      "image/png": "[encoded data removed]",
      "text/plain": [
       "<matplotlib.figure.Figure at 0x10c838650>"
      ]
     },
     "metadata": {},
     "output_type": "display_data"
    }
   ],
   "source": [
    "# Implement a stratified split of the data into train and test sets\n",
    "skf = StratifiedKFold(Y, n_folds=10)\n",
    "\n",
    "# Loop through folds, collecting accuracies as you go\n",
    "scores = []\n",
    "thetas = []\n",
    "for train_index, test_index in skf:\n",
    "    \n",
    "    # Split inputs and targets\n",
    "    X_train, X_test = X[train_index], X[test_index]\n",
    "    Y_train, Y_test = Y[train_index], Y[test_index]\n",
    "    initial_theta = np.zeros( X_train.shape[1] )\n",
    "\n",
    "    # Create an instance of the logistic regression classifier\n",
    "    logreg_classifier = LogReg()\n",
    "\n",
    "    # Determine best fit parameters\n",
    "    theta_best = logreg_classifier.fit(initial_theta, X_train, Y_train)\n",
    "    thetas.append(theta_best)\n",
    "\n",
    "    # Determine accuracy based on best fit parameters\n",
    "    scores.append(logreg_classifier.score(theta_best, X_test, Y_test))\n",
    "    \n",
    "# Calculate the average score for the model based on all 10 scores\n",
    "avg_score = np.mean(scores)\n",
    "# Calculate the average regression parameters\n",
    "avg_thetas = np.mean(thetas, axis = 0)\n",
    "\n",
    "# Plot a histogram of the scores\n",
    "sns.distplot(scores, bins = 20, kde = False)\n",
    "plt.title('Average score: {}'.format(avg_score))"
   ]
  },
  {
   "cell_type": "markdown",
   "metadata": {},
   "source": [
    "In this case, it turned out that the model was not suffering from overfitting. From the average regression parameters, we can plot the corresponding decision boundary"
   ]
  },
  {
   "cell_type": "code",
   "execution_count": 7,
   "metadata": {
    "collapsed": false
   },
   "outputs": [
    {
     "data": {
      "text/plain": [
       "<matplotlib.text.Text at 0x1148c7d50>"
      ]
     },
     "execution_count": 7,
     "metadata": {},
     "output_type": "execute_result"
    },
    {
     "data": {
      "image/png": "[encoded data removed]",
      "text/plain": [
       "<matplotlib.figure.Figure at 0x10c838610>"
      ]
     },
     "metadata": {},
     "output_type": "display_data"
    }
   ],
   "source": [
    "# Create an instance of the logistic regression classifier\n",
    "logreg_classifier = LogReg()\n",
    "\n",
    "# Define a mesh for a contour plot of the decision boundary\n",
    "x_min, x_max = X[:,1].min()-5, X[:,1].max()+5\n",
    "y_min, y_max = X[:,2].min()-5, X[:,2].max()+5\n",
    "contour_x = np.linspace(x_min, x_max)\n",
    "contour_y = np.linspace(y_min, y_max)\n",
    "\n",
    "# Define a function which returns the model class prediction for a given set of inputs and the average regression\n",
    "# parameters obtained from the 10-fold cross validation\n",
    "def calc_z(x,y):\n",
    "    return logreg_classifier.predict(avg_thetas, np.array([1, x, y]))\n",
    "\n",
    "# Calculate the class prediction for each point in the mesh\n",
    "z = np.zeros((len(contour_x), len(contour_y)))\n",
    "for i, c_x in enumerate(contour_x):\n",
    "    for j, c_y in enumerate(contour_y):\n",
    "        z[i,j] = calc_z(c_x, c_y)\n",
    "\n",
    "# Plot original data and decision boundary contour on top \n",
    "ax = plotdata(exam_df)\n",
    "ax.contour(contour_x, contour_y, z, levels = [0], colors='green', linestyles = ['dashed'])\n",
    "plt.legend(['accepted', 'rejected'])\n",
    "plt.xlabel('First test score')\n",
    "plt.ylabel('Second test score')"
   ]
  },
  {
   "cell_type": "markdown",
   "metadata": {},
   "source": [
    "### Scikit-learn logistic regression classifier   \n",
    "\n",
    "Now we'll take a look at scikit-learn's implementation of logistic regression. We'll just skip straight to the 10-fold stratified cross validation."
   ]
  },
  {
   "cell_type": "code",
   "execution_count": 8,
   "metadata": {
    "collapsed": false
   },
   "outputs": [
    {
     "data": {
      "text/plain": [
       "<matplotlib.text.Text at 0x114b32250>"
      ]
     },
     "execution_count": 8,
     "metadata": {},
     "output_type": "execute_result"
    },
    {
     "data": {
      "image/png": "[encoded data removed]",
      "text/plain": [
       "<matplotlib.figure.Figure at 0x10315e490>"
      ]
     },
     "metadata": {},
     "output_type": "display_data"
    }
   ],
   "source": [
    "# Implement a stratified split of the data into train and test sets\n",
    "skf = StratifiedKFold(Y, n_folds=10)\n",
    "\n",
    "# Loop through folds, collecting accuracies as you go\n",
    "scores = []\n",
    "thetas = []\n",
    "for train_index, test_index in skf:\n",
    "    \n",
    "    # Split inputs and targets\n",
    "    X_train, X_test = X[train_index], X[test_index]\n",
    "    Y_train, Y_test = Y[train_index], Y[test_index]\n",
    "\n",
    "    # Create an instance of the logistic regression classifier\n",
    "    logreg_classifier = LogisticRegression()\n",
    "\n",
    "    # Fit the model\n",
    "    logreg_classifier.fit(X_train, Y_train)\n",
    "\n",
    "    # Determine accuracy based on best fit parameters\n",
    "    # Predict the classes of the test set\n",
    "    predict_classes = logreg_classifier.predict(X_test)\n",
    "    thetas.append(logreg_classifier.coef_.ravel())\n",
    "    scores.append(metrics.accuracy_score(Y_test, predict_classes))\n",
    "    \n",
    "# Calculate the average score for the model based on all 10 scores\n",
    "avg_score = np.mean(scores)\n",
    "# Calculate the average regression parameters\n",
    "avg_thetas = np.mean(thetas, axis = 0)\n",
    "\n",
    "# Plot a histogram of the scores\n",
    "sns.distplot(scores, bins = 20, kde = False)\n",
    "plt.title('Average score: {}'.format(avg_score))"
   ]
  },
  {
   "cell_type": "markdown",
   "metadata": {},
   "source": [
    "This does have a slightly higher accuracy, i.e., a higher average and more folds leading to a ~100% accuracy. We can plot the decision boundary for this now. In order to obtain the classifier associated with the average score (91%), we have to run the 10-fold stratified cross validation again but jump out of the loop once we've got that one."
   ]
  },
  {
   "cell_type": "code",
   "execution_count": 9,
   "metadata": {
    "collapsed": false
   },
   "outputs": [
    {
     "data": {
      "text/plain": [
       "<matplotlib.text.Text at 0x114cbded0>"
      ]
     },
     "execution_count": 9,
     "metadata": {},
     "output_type": "execute_result"
    },
    {
     "data": {
      "image/png": "[encoded data removed]",
      "text/plain": [
       "<matplotlib.figure.Figure at 0x10c87d590>"
      ]
     },
     "metadata": {},
     "output_type": "display_data"
    }
   ],
   "source": [
    "# Implement a stratified split of the data into train and test sets\n",
    "skf = StratifiedKFold(Y, n_folds=10)\n",
    "for train_index, test_index in skf:\n",
    "    \n",
    "    # Split inputs and targets\n",
    "    X_train, X_test = X[train_index], X[test_index]\n",
    "    Y_train, Y_test = Y[train_index], Y[test_index]\n",
    "    initial_theta = np.zeros( X_train.shape[1] )\n",
    "\n",
    "    # Create an instance of the logistic regression classifier\n",
    "    logreg_classifier = LogisticRegression()\n",
    "\n",
    "    # Fit the model\n",
    "    logreg_classifier.fit(X_train, Y_train)\n",
    "\n",
    "    # Determine accuracy based on best fit parameters\n",
    "    # Predict the classes of the test set\n",
    "    predict_classes = logreg_classifier.predict(X_test)\n",
    "    score = metrics.accuracy_score(Y_test, predict_classes)\n",
    "    \n",
    "    # Break out of the loop if the average score is obtained\n",
    "    if .85 <= score <= .95:\n",
    "        break\n",
    "        \n",
    "# Plot decision boundary\n",
    "\n",
    "x_min, x_max = X[:,1].min()-5, X[:,1].max()+5\n",
    "y_min, y_max = X[:,2].min()-5, X[:,2].max()+5\n",
    "contour_x = np.linspace(x_min, x_max)\n",
    "contour_y = np.linspace(y_min, y_max)\n",
    "\n",
    "def calc_z(x,y):\n",
    "    return logreg_classifier.predict(np.array([[1, x, y]]))\n",
    "\n",
    "z = np.zeros((len(contour_x), len(contour_y)))\n",
    "for i, c_x in enumerate(contour_x):\n",
    "    for j, c_y in enumerate(contour_y):\n",
    "        z[i,j] = calc_z(c_x, c_y)\n",
    "\n",
    "ax = plotdata(exam_df)\n",
    "ax.contour(contour_x, contour_y, z, levels = [0], colors='green', linestyles = ['dashed'])\n",
    "plt.legend(['accepted', 'rejected'])\n",
    "plt.xlabel('First test score')\n",
    "plt.ylabel('Second test score')"
   ]
  },
  {
   "cell_type": "markdown",
   "metadata": {},
   "source": [
    "This is great but it's somewhat limited by the fact that the regression model is based on a linear data which is unable to make use of perhaps a more suitable polynomial fit. Even in the previous plot, we can see that we may benefit slightly from some polynomial features.   \n",
    "\n",
    "To compare the performance of mine and scikit-learn's logistic regression classifiers on a dataset with polynomial features, we can consider the following dataset."
   ]
  },
  {
   "cell_type": "markdown",
   "metadata": {},
   "source": [
    "## Dataset 2  \n",
    "\n",
    "Build a logistic regression classifier model to predict whether microchips from a fabrication plant pass quality assurance or not. During quality assurance, each chip goes through various tests to ensure it is functioning properly. You are given test results for two separate tests. From these two tests, you want to determine which chips should be accepted and which should be rejected. You are also given data on test results of past microchips to train a regression model."
   ]
  },
  {
   "cell_type": "markdown",
   "metadata": {},
   "source": [
    "First, let's take a look at the data"
   ]
  },
  {
   "cell_type": "code",
   "execution_count": 10,
   "metadata": {
    "collapsed": false
   },
   "outputs": [
    {
     "data": {
      "text/plain": [
       "<matplotlib.text.Text at 0x114e270d0>"
      ]
     },
     "execution_count": 10,
     "metadata": {},
     "output_type": "execute_result"
    },
    {
     "data": {
      "image/png": "[encoded data removed]",
      "text/plain": [
       "<matplotlib.figure.Figure at 0x10c842210>"
      ]
     },
     "metadata": {},
     "output_type": "display_data"
    }
   ],
   "source": [
    "# Upload the data\n",
    "exam_df = pd.read_csv('ex2data2.txt', header = None)\n",
    "exam_df.columns = ['score1', 'score2', 'accepted']\n",
    "\n",
    "# Translate data into numpy arrays\n",
    "X = exam_df[['score1', 'score2']].values\n",
    "Y = exam_df['accepted'].values\n",
    "\n",
    "# Plot the data\n",
    "ax = plotdata(exam_df)\n",
    "plt.legend(['accepted', 'rejected'])\n",
    "plt.xlabel('First test score')\n",
    "plt.ylabel('Second test score')"
   ]
  },
  {
   "cell_type": "markdown",
   "metadata": {},
   "source": [
    "### My logistic regression classifier  \n",
    "\n",
    "Before training, we need to expand the dataset to encapsulate polynomial values of the two exam scores. We'll just start with a stratified 10-fold cross validation."
   ]
  },
  {
   "cell_type": "code",
   "execution_count": 11,
   "metadata": {
    "collapsed": false
   },
   "outputs": [
    {
     "data": {
      "text/plain": [
       "<matplotlib.text.Text at 0x114fc52d0>"
      ]
     },
     "execution_count": 11,
     "metadata": {},
     "output_type": "execute_result"
    },
    {
     "data": {
      "image/png": "[encoded data removed]",
      "text/plain": [
       "<matplotlib.figure.Figure at 0x114e98e90>"
      ]
     },
     "metadata": {},
     "output_type": "display_data"
    }
   ],
   "source": [
    "# Use the poly_map method of the LogReg class to map to polynomial values and insert the bias feature. Try a 6 degree\n",
    "# polynomial mapping.\n",
    "logreg_classifier = LogReg()\n",
    "X_poly = logreg_classifier.poly_map(X[:,0], X[:,1], 6)\n",
    "\n",
    "# Implement a stratified split of the data into train and test sets\n",
    "skf = StratifiedKFold(Y, n_folds=10)\n",
    "\n",
    "# Loop through folds, collecting accuracies as you go\n",
    "scores = []\n",
    "thetas = []\n",
    "for train_index, test_index in skf:\n",
    "    \n",
    "    # Split inputs and targets\n",
    "    X_train, X_test = X_poly[train_index], X_poly[test_index]\n",
    "    Y_train, Y_test = Y[train_index], Y[test_index]\n",
    "    initial_theta = np.zeros( X_train.shape[1] )\n",
    "\n",
    "    # Create an instance of the logistic regression classifier. From trial-and-error, we learn that we require \n",
    "    # a non-zero value of the ridge regression parameter to avoid overfitting the data with each instance and \n",
    "    # ending up with completely unrealistic fit parameters. \n",
    "    logreg_classifier = LogReg(lmbda=1, threshold=.5)\n",
    "\n",
    "    # Determine best fit parameters\n",
    "    theta_best = logreg_classifier.fit(initial_theta, X_train, Y_train)\n",
    "    thetas.append(theta_best)\n",
    "\n",
    "    # Determine accuracy based on best fit parameters\n",
    "    scores.append(logreg_classifier.score(theta_best, X_test, Y_test))\n",
    "    \n",
    "    \n",
    "# Calculate the average score for the model based on all 10 scores\n",
    "avg_score = np.mean(scores)\n",
    "# Calculate the average regression parameters\n",
    "avg_thetas = np.mean(thetas, axis = 0)\n",
    "\n",
    "# Plot a histogram of the scores\n",
    "sns.distplot(scores, bins = 20, kde = False)\n",
    "plt.title('Average score: {}'.format(avg_score))"
   ]
  },
  {
   "cell_type": "markdown",
   "metadata": {
    "collapsed": false
   },
   "source": [
    "Use the average regression parameters to visualize the decision boundary."
   ]
  },
  {
   "cell_type": "code",
   "execution_count": 12,
   "metadata": {
    "collapsed": false
   },
   "outputs": [
    {
     "data": {
      "text/plain": [
       "<matplotlib.text.Text at 0x115276e90>"
      ]
     },
     "execution_count": 12,
     "metadata": {},
     "output_type": "execute_result"
    },
    {
     "data": {
      "image/png": "[encoded data removed]",
      "text/plain": [
       "<matplotlib.figure.Figure at 0x114cd3950>"
      ]
     },
     "metadata": {},
     "output_type": "display_data"
    }
   ],
   "source": [
    "# What does the resulting decision boundary look like?\n",
    "contour_x = np.linspace(-1, 1.5)\n",
    "contour_y = np.linspace(-1, 1.5)\n",
    "\n",
    "def calc_z(x,y):\n",
    "    return logreg_classifier.poly_map(x, y, 6).dot(avg_thetas)\n",
    "\n",
    "z = np.zeros((len(contour_x), len(contour_y)))\n",
    "for i, c_x in enumerate(contour_x):\n",
    "    for j, c_y in enumerate(contour_y):\n",
    "        z[i,j] = calc_z(c_x, c_y)\n",
    "\n",
    "ax = plotdata(exam_df)\n",
    "ax.contour(contour_x, contour_y, z, levels = [0], colors='salmon', linestyles = ['dashed'])\n",
    "plt.legend(['accepted', 'rejected'])\n",
    "plt.xlabel('First test score')\n",
    "plt.ylabel('Second test score')"
   ]
  },
  {
   "cell_type": "markdown",
   "metadata": {},
   "source": [
    "This decision boundary was derived assuming certain values for the model parameters. One other way we may optimize our model is to find the model parameter values that maximize the accuracy score. For this, we perform a grid_search which calculates the score for a range of values of all model parameters and returns the highest scoring combination of parameters."
   ]
  },
  {
   "cell_type": "code",
   "execution_count": 13,
   "metadata": {
    "collapsed": false
   },
   "outputs": [
    {
     "name": "stdout",
     "output_type": "stream",
     "text": [
      "lambda_best: 0.75, threshold_best: 0.5, poly_degree_best: 2.0, best score: 0.72803030303\n"
     ]
    }
   ],
   "source": [
    "# Define a parameter grid to scan over\n",
    "import itertools as it\n",
    "param_grid = {'lambda':[.75, .8, .9, 1, 3, 5, 10], 'threshold':[.35,.4,.5,.6,.7,.8,.9], \n",
    "              'poly_degree':[2,3,4,5,6,7,8,9,10]}\n",
    "varNames = sorted(param_grid)\n",
    "val_combos = [dict(zip(varNames, prod)) for prod in it.product(*(param_grid[varName] for varName in varNames))]\n",
    "\n",
    "# Implement a stratified split of the data into train and test sets before entering grid search\n",
    "skf = StratifiedKFold(Y, n_folds=10)\n",
    "    \n",
    "score_results = []\n",
    "for combo in val_combos:\n",
    "    \n",
    "    logreg_classifier = LogReg(lmbda = combo['lambda'], threshold = combo['threshold'])\n",
    "    X_poly = logreg_classifier.poly_map(X[:,0], X[:,1], combo['poly_degree'])\n",
    "    \n",
    "    scores = []\n",
    "    for train_index, test_index in skf:\n",
    "    \n",
    "        # Split inputs and targets\n",
    "        X_train, X_test = X_poly[train_index], X_poly[test_index]\n",
    "        Y_train, Y_test = Y[train_index], Y[test_index]\n",
    "        initial_theta = np.zeros( X_train.shape[1] )\n",
    "\n",
    "        # Determine best fit parameters\n",
    "        theta_best = logreg_classifier.fit(initial_theta, X_train, Y_train)\n",
    "\n",
    "        # Determine accuracy based on best fit parameters\n",
    "        scores.append(logreg_classifier.score(theta_best, X_test, Y_test))\n",
    "    \n",
    "    avg_score = np.mean(scores)\n",
    "    \n",
    "    score_results.append([combo['lambda'], combo['threshold'], combo['poly_degree'], avg_score])\n",
    "\n",
    "\n",
    "# Collect overall results\n",
    "score_results = np.array(score_results)\n",
    "max_index = score_results[:,3].argmax()\n",
    "best_lambda, best_threshold, best_poly_degree, best_score = score_results[max_index]\n",
    "\n",
    "# Print results of scan\n",
    "print 'lambda_best: {0}, threshold_best: {1}, poly_degree_best: {2}, best score: {3}'.format(best_lambda, \n",
    "                                                                                            best_threshold, \n",
    "                                                                                            best_poly_degree, \n",
    "                                                                                            best_score)"
   ]
  },
  {
   "cell_type": "markdown",
   "metadata": {},
   "source": [
    "The best score is actually not so far away from the one we got from our original parameter choice. We now recalculate the decision boundary based on the optimized classifier with the best parameters"
   ]
  },
  {
   "cell_type": "code",
   "execution_count": 14,
   "metadata": {
    "collapsed": false
   },
   "outputs": [
    {
     "data": {
      "text/plain": [
       "<matplotlib.text.Text at 0x115537fd0>"
      ]
     },
     "execution_count": 14,
     "metadata": {},
     "output_type": "execute_result"
    },
    {
     "data": {
      "image/png": "[encoded data removed]",
      "text/plain": [
       "<matplotlib.figure.Figure at 0x1153a0210>"
      ]
     },
     "metadata": {},
     "output_type": "display_data"
    }
   ],
   "source": [
    "# Implement a stratified split of the data into train and test sets\n",
    "skf = StratifiedKFold(Y, n_folds=10)\n",
    "\n",
    "# Loop through folds, collecting accuracies as you go\n",
    "scores = []\n",
    "thetas = []\n",
    "for train_index, test_index in skf:\n",
    "    \n",
    "    # Initialize an instance of the optimized classifier and polynomial expansion of the dataset\n",
    "    logreg_classifier = LogReg(lmbda=best_lambda, threshold=best_threshold)\n",
    "    X_poly = logreg_classifier.poly_map(X[:,0], X[:,1], best_poly_degree)\n",
    "\n",
    "    # Split inputs and targets\n",
    "    X_train, X_test = X_poly[train_index], X_poly[test_index]\n",
    "    Y_train, Y_test = Y[train_index], Y[test_index]\n",
    "    initial_theta = np.zeros( X_train.shape[1] )\n",
    "\n",
    "    # Determine best fit parameters\n",
    "    theta_best = logreg_classifier.fit(initial_theta, X_train, Y_train)\n",
    "    thetas.append(theta_best)\n",
    "\n",
    "    # Determine accuracy based on best fit parameters\n",
    "    scores.append(logreg_classifier.score(theta_best, X_test, Y_test))\n",
    "    \n",
    "    \n",
    "# Calculate the average regression parameters\n",
    "avg_thetas = np.mean(thetas, axis = 0)\n",
    "\n",
    "# Plot decision boundary\n",
    "contour_x = np.linspace(-1, 1.5)\n",
    "contour_y = np.linspace(-1, 1.5)\n",
    "\n",
    "def calc_z(x,y):\n",
    "    return logreg_classifier.poly_map(x, y, best_poly_degree).dot(avg_thetas)\n",
    "\n",
    "z = np.zeros((len(contour_x), len(contour_y)))\n",
    "for i, c_x in enumerate(contour_x):\n",
    "    for j, c_y in enumerate(contour_y):\n",
    "        z[i,j] = calc_z(c_x, c_y)\n",
    "\n",
    "ax = plotdata(exam_df)\n",
    "ax.contour(contour_x, contour_y, z, levels = [0], colors='salmon', linestyles = ['dashed'])\n",
    "plt.legend(['accepted', 'rejected'])\n",
    "plt.xlabel('First test score')\n",
    "plt.ylabel('Second test score')"
   ]
  },
  {
   "cell_type": "markdown",
   "metadata": {},
   "source": [
    "### Scikit-learn logistic regression classifier   \n",
    "\n",
    "Now we'll take a look at scikit-learn's implementation of logistic regression. We'll just skip straight to a grid search for the regularization parameter using a 10-fold stratified cross validation."
   ]
  },
  {
   "cell_type": "code",
   "execution_count": 15,
   "metadata": {
    "collapsed": false
   },
   "outputs": [
    {
     "name": "stdout",
     "output_type": "stream",
     "text": [
      "Best score: 0.762711864407\n",
      "Best ridge regression parameter: 5\n"
     ]
    },
    {
     "data": {
      "text/plain": [
       "LogisticRegression(C=5, class_weight=None, dual=False, fit_intercept=True,\n",
       "          intercept_scaling=1, max_iter=100, multi_class='ovr', n_jobs=1,\n",
       "          penalty='l2', random_state=None, solver='liblinear', tol=0.0001,\n",
       "          verbose=0, warm_start=False)"
      ]
     },
     "execution_count": 15,
     "metadata": {},
     "output_type": "execute_result"
    }
   ],
   "source": [
    "# We'll still use the poly_map method of the LogReg class to map to polynomial values and insert the bias feature.\n",
    "# Since GridSearchCV doesn't take this parameter as an internal one, we'll need to modify it by hand, looking for the \n",
    "# best score.\n",
    "logreg_classifier = LogReg()\n",
    "X_poly = logreg_classifier.poly_map(X[:,0], X[:,1], 2)\n",
    "\n",
    "logreg_classifier = LogisticRegression()\n",
    "\n",
    "parameter_grid = {'C':[1, 2, 3, 4, 5, 6, 7, 8, 9, 10, 11, 12, 13, 14, 15, 16, 17, 18, 19, 20]}\n",
    "\n",
    "cross_validation = StratifiedKFold(Y, n_folds = 10)\n",
    "\n",
    "grid_search = GridSearchCV(logreg_classifier, param_grid = parameter_grid, cv = cross_validation)\n",
    "\n",
    "grid_search.fit(X_poly, Y)\n",
    "\n",
    "print 'Best score: {}'.format(grid_search.best_score_)\n",
    "print 'Best ridge regression parameter: {}'.format(grid_search.best_params_['C'])\n",
    "\n",
    "grid_search.best_estimator_"
   ]
  },
  {
   "cell_type": "markdown",
   "metadata": {},
   "source": [
    "This classifier does indeed do better than my own. Using the best estimator, we can now draw the decision boundary."
   ]
  },
  {
   "cell_type": "code",
   "execution_count": 16,
   "metadata": {
    "collapsed": false
   },
   "outputs": [
    {
     "data": {
      "text/plain": [
       "<matplotlib.text.Text at 0x1153d9fd0>"
      ]
     },
     "execution_count": 16,
     "metadata": {},
     "output_type": "execute_result"
    },
    {
     "data": {
      "image/png": "[encoded data removed]",
      "text/plain": [
       "<matplotlib.figure.Figure at 0x114e1d310>"
      ]
     },
     "metadata": {},
     "output_type": "display_data"
    }
   ],
   "source": [
    "my_classifier = LogReg()\n",
    "X_poly = my_classifier.poly_map(X[:,0], X[:,1], 2)\n",
    "\n",
    "# Plot decision boundary\n",
    "x_min, x_max = X_poly[:,1].min()-.5, X_poly[:,1].max()+.5\n",
    "y_min, y_max = X_poly[:,2].min()-.5, X_poly[:,2].max()+.5\n",
    "contour_x = np.linspace(x_min, x_max)\n",
    "contour_y = np.linspace(y_min, y_max)\n",
    "\n",
    "def calc_z(x,y):\n",
    "    return grid_search.best_estimator_.predict([my_classifier.poly_map(x, y, 2)])\n",
    "\n",
    "z = np.zeros((len(contour_x), len(contour_y)))\n",
    "for i, c_x in enumerate(contour_x):\n",
    "    for j, c_y in enumerate(contour_y):\n",
    "        z[i,j] = calc_z(c_x, c_y)\n",
    "\n",
    "ax = plotdata(exam_df)\n",
    "ax.contour(contour_x, contour_y, z, levels = [0], colors='salmon', linestyles = ['dashed'])\n",
    "plt.legend(['accepted', 'rejected'])\n",
    "plt.xlim(-1.25, 1.5)\n",
    "plt.ylim(-1.25, 1.5)\n",
    "plt.xlabel('First test score')\n",
    "plt.ylabel('Second test score')"
   ]
  },
  {
   "cell_type": "markdown",
   "metadata": {},
   "source": [
    "# Conclusions (so far...):  \n",
    "\n",
    "- For data with both linear and polynomial features, the scikit-learn classifier consistently performs better than my classifier.  \n",
    "- It only outperforms my classifier by a few percent in each case though. I may be able to improve my performance by using a different optimization algorithm in the LogReg class."
   ]
  }
 ],
 "metadata": {
  "kernelspec": {
   "display_name": "Python 2",
   "language": "python",
   "name": "python2"
  },
  "language_info": {
   "codemirror_mode": {
    "name": "ipython",
    "version": 2
   },
   "file_extension": ".py",
   "mimetype": "text/x-python",
   "name": "python",
   "nbconvert_exporter": "python",
   "pygments_lexer": "ipython2",
   "version": "2.7.11"
  }
 },
 "nbformat": 4,
 "nbformat_minor": 0
}
